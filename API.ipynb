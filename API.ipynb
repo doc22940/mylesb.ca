{
 "metadata": {
  "name": "",
  "signature": "sha256:e6b7cef519b394dc354e11a10832bf259a1fa1198595dfc52a90cd9837251a12"
 },
 "nbformat": 3,
 "nbformat_minor": 0,
 "worksheets": [
  {
   "cells": [
    {
     "cell_type": "code",
     "collapsed": false,
     "input": [
      "import json\n",
      "import urllib2\n",
      "\n",
      "from IPython.core.display import HTML\n",
      "\n",
      "API_ENDPOINT_URL = \"http://mylesb.ca/api/\"\n",
      "\n",
      "data = json.loads(urllib2.urlopen(API_ENDPOINT_URL).read())"
     ],
     "language": "python",
     "metadata": {},
     "outputs": [],
     "prompt_number": 15
    },
    {
     "cell_type": "code",
     "collapsed": false,
     "input": [
      "HTML(u\"<p><strong>Name</strong>: %(givenName)s %(familyName)s</p>\" % data)"
     ],
     "language": "python",
     "metadata": {},
     "outputs": [
      {
       "html": [
        "<p><strong>Name</strong>: Myles Braithwaite</p>"
       ],
       "metadata": {},
       "output_type": "pyout",
       "prompt_number": 16,
       "text": [
        "<IPython.core.display.HTML at 0x110acd410>"
       ]
      }
     ],
     "prompt_number": 16
    },
    {
     "cell_type": "code",
     "collapsed": false,
     "input": [
      "HTML(u'<p><strong>Email</strong>: <a href=\"%(email)s\">%(email)s</a></p>' % data)"
     ],
     "language": "python",
     "metadata": {},
     "outputs": [
      {
       "html": [
        "<p><strong>Email</strong>: <a href=\"mailto:me@mylesb.ca\">mailto:me@mylesb.ca</a></p>"
       ],
       "metadata": {},
       "output_type": "pyout",
       "prompt_number": 17,
       "text": [
        "<IPython.core.display.HTML at 0x110acd310>"
       ]
      }
     ],
     "prompt_number": 17
    },
    {
     "cell_type": "code",
     "collapsed": false,
     "input": [
      "HTML(u\"<p><strong>From</strong>: %(addressLocality)s, %(addressRegion)s</p>\" % data.get('address'))"
     ],
     "language": "python",
     "metadata": {},
     "outputs": [
      {
       "html": [
        "<p><strong>From</strong>: Toronto, ON</p>"
       ],
       "metadata": {},
       "output_type": "pyout",
       "prompt_number": 18,
       "text": [
        "<IPython.core.display.HTML at 0x110acd4d0>"
       ]
      }
     ],
     "prompt_number": 18
    },
    {
     "cell_type": "code",
     "collapsed": false,
     "input": [
      "HTML(u\"<p><strong>Works For</strong>: %(name)s</p>\" % data.get('worksFor'))"
     ],
     "language": "python",
     "metadata": {},
     "outputs": [
      {
       "html": [
        "<p><strong>Works For</strong>: Monkey in your Soul</p>"
       ],
       "metadata": {},
       "output_type": "pyout",
       "prompt_number": 19,
       "text": [
        "<IPython.core.display.HTML at 0x110acd0d0>"
       ]
      }
     ],
     "prompt_number": 19
    },
    {
     "cell_type": "code",
     "collapsed": false,
     "input": [
      "HTML(u\"<img src='%(image)s' width='250' height='250' />\" % data)"
     ],
     "language": "python",
     "metadata": {},
     "outputs": [
      {
       "html": [
        "<img src='http://mylesb.ca/static/img/avatar/hipster/400.png' width='250' height='250' />"
       ],
       "metadata": {},
       "output_type": "pyout",
       "prompt_number": 20,
       "text": [
        "<IPython.core.display.HTML at 0x110acd2d0>"
       ]
      }
     ],
     "prompt_number": 20
    }
   ],
   "metadata": {}
  }
 ]
}